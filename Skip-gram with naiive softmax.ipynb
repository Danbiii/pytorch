{
 "cells": [
  {
   "cell_type": "code",
   "execution_count": 1,
   "metadata": {},
   "outputs": [],
   "source": [
    "import torch\n",
    "import torch.nn as nn\n",
    "from torch.autograd import Variable\n",
    "import torch.optim as optim\n",
    "import torch.nn.functional as F\n",
    "import nltk\n",
    "import random\n",
    "import numpy as np\n",
    "from collections import Counter"
   ]
  },
  {
   "cell_type": "code",
   "execution_count": 2,
   "metadata": {},
   "outputs": [],
   "source": [
    "flatten = lambda l:[item for sublist in l for item in sublist]\n",
    "#1차원으로 펴주기"
   ]
  },
  {
   "cell_type": "code",
   "execution_count": 3,
   "metadata": {},
   "outputs": [],
   "source": [
    "USE_CUDA = torch.cuda.is_available()\n",
    "gpus = [0]\n",
    "torch.cuda.set_device(gpus[0])"
   ]
  },
  {
   "cell_type": "code",
   "execution_count": 4,
   "metadata": {},
   "outputs": [],
   "source": [
    "FloatTensor = torch.cuda.FloatTensor if USE_CUDA else torch.FloatTensor\n",
    "LongTensor = torch.cuda.LongTensor if USE_CUDA else torch.LongTensor\n",
    "ByteTensor = torch.cuda.ByteTensor if USE_CUDA else torch.ByteTensor"
   ]
  },
  {
   "cell_type": "code",
   "execution_count": 5,
   "metadata": {},
   "outputs": [],
   "source": [
    "def getBatch(batch_size, train_data):  #batch size: 한번에 학습시킬 데이터 크기\n",
    "    random.shuffle(train_data) \n",
    "    sindex=0\n",
    "    eindex = batch_size\n",
    "    \n",
    "    while eindex < len(train_data):\n",
    "        batch = train_data[sindex:eindex]\n",
    "        temp = eindex\n",
    "        eindex = eindex + batch_size  #batch_size가 두배?\n",
    "        sindex = temp #기존의 batch_size\n",
    "        yield batch\n",
    "        \n",
    "    if eindex <= len(train_data):\n",
    "        batch = train_data[sindex:]\n",
    "        yield batch"
   ]
  },
  {
   "cell_type": "markdown",
   "metadata": {},
   "source": [
    "## Data load and Preprocessing\n",
    "### Gutenberg corpus"
   ]
  },
  {
   "cell_type": "code",
   "execution_count": 6,
   "metadata": {
    "scrolled": true
   },
   "outputs": [
    {
     "data": {
      "text/plain": [
       "['austen-emma.txt',\n",
       " 'austen-persuasion.txt',\n",
       " 'austen-sense.txt',\n",
       " 'bible-kjv.txt',\n",
       " 'blake-poems.txt',\n",
       " 'bryant-stories.txt',\n",
       " 'burgess-busterbrown.txt',\n",
       " 'carroll-alice.txt',\n",
       " 'chesterton-ball.txt',\n",
       " 'chesterton-brown.txt',\n",
       " 'chesterton-thursday.txt',\n",
       " 'edgeworth-parents.txt',\n",
       " 'melville-moby_dick.txt',\n",
       " 'milton-paradise.txt',\n",
       " 'shakespeare-caesar.txt',\n",
       " 'shakespeare-hamlet.txt',\n",
       " 'shakespeare-macbeth.txt',\n",
       " 'whitman-leaves.txt']"
      ]
     },
     "execution_count": 6,
     "metadata": {},
     "output_type": "execute_result"
    }
   ],
   "source": [
    "nltk.corpus.gutenberg.fileids()"
   ]
  },
  {
   "cell_type": "code",
   "execution_count": 8,
   "metadata": {},
   "outputs": [],
   "source": [
    "corpus = list(nltk.corpus.gutenberg.sents('melville-moby_dick.txt'))[:300]\n",
    "#sampling sentences for test"
   ]
  },
  {
   "cell_type": "code",
   "execution_count": 9,
   "metadata": {},
   "outputs": [],
   "source": [
    "corpus = [[word.lower() for word in sent] for sent in corpus] \n",
    "#전부 소문자로 변형"
   ]
  },
  {
   "cell_type": "markdown",
   "metadata": {},
   "source": [
    "### Extract Stopwords"
   ]
  },
  {
   "cell_type": "code",
   "execution_count": 10,
   "metadata": {
    "scrolled": true
   },
   "outputs": [
    {
     "name": "stdout",
     "output_type": "stream",
     "text": [
      "1484\n"
     ]
    }
   ],
   "source": [
    "word_count = Counter(flatten(corpus))\n",
    "print(len(word_count))"
   ]
  },
  {
   "cell_type": "code",
   "execution_count": 11,
   "metadata": {},
   "outputs": [],
   "source": [
    "border = int(len(word_count)*0.01) #1%\n",
    "stopwords = word_count.most_common()[:border] + list(reversed(word_count.most_common()))[:border]"
   ]
  },
  {
   "cell_type": "markdown",
   "metadata": {},
   "source": [
    "word_count.most_common() -> 빈도 높은 순서대로 정렬\n",
    "\n",
    "list(reversed(word_count.most_common())) -> 빈도 낮은 순서대로 정렬 (리스트 형식)"
   ]
  },
  {
   "cell_type": "code",
   "execution_count": 12,
   "metadata": {
    "scrolled": true
   },
   "outputs": [
    {
     "data": {
      "text/plain": [
       "[(',', 284),\n",
       " ('the', 266),\n",
       " ('.', 192),\n",
       " ('of', 144),\n",
       " ('and', 112),\n",
       " ('\"', 106),\n",
       " ('a', 105),\n",
       " ('in', 99),\n",
       " ('--', 94),\n",
       " ('to', 91),\n",
       " ('.\"', 86),\n",
       " ('whale', 76),\n",
       " (\"'\", 71),\n",
       " ('s', 66),\n",
       " ('feelings', 1),\n",
       " ('cherish', 1),\n",
       " ('degree', 1),\n",
       " ('knew', 1),\n",
       " ('surprising', 1),\n",
       " ('quietly', 1),\n",
       " ('throws', 1),\n",
       " ('cato', 1),\n",
       " ('flourish', 1),\n",
       " ('philosophical', 1),\n",
       " ('pistol', 1),\n",
       " ('substitute', 1),\n",
       " ('hats', 1),\n",
       " ('knocking', 1)]"
      ]
     },
     "execution_count": 12,
     "metadata": {},
     "output_type": "execute_result"
    }
   ],
   "source": [
    "stopwords\n",
    "#빈도 가장 높은 상위 1% 단어들 + 빈도 가장 낮은 하위 1% 단어들 리스트"
   ]
  },
  {
   "cell_type": "code",
   "execution_count": 13,
   "metadata": {
    "scrolled": false
   },
   "outputs": [
    {
     "data": {
      "text/plain": [
       "[',',\n",
       " 'the',\n",
       " '.',\n",
       " 'of',\n",
       " 'and',\n",
       " '\"',\n",
       " 'a',\n",
       " 'in',\n",
       " '--',\n",
       " 'to',\n",
       " '.\"',\n",
       " 'whale',\n",
       " \"'\",\n",
       " 's',\n",
       " 'feelings',\n",
       " 'cherish',\n",
       " 'degree',\n",
       " 'knew',\n",
       " 'surprising',\n",
       " 'quietly',\n",
       " 'throws',\n",
       " 'cato',\n",
       " 'flourish',\n",
       " 'philosophical',\n",
       " 'pistol',\n",
       " 'substitute',\n",
       " 'hats',\n",
       " 'knocking']"
      ]
     },
     "execution_count": 13,
     "metadata": {},
     "output_type": "execute_result"
    }
   ],
   "source": [
    "stopwords = [s[0] for s in stopwords] # 단어만 확인\n",
    "stopwords"
   ]
  },
  {
   "cell_type": "markdown",
   "metadata": {},
   "source": [
    "### Build vocab"
   ]
  },
  {
   "cell_type": "code",
   "execution_count": 14,
   "metadata": {},
   "outputs": [
    {
     "name": "stdout",
     "output_type": "stream",
     "text": [
      "['nantucket', 'wallen', 'punish', 'account', 'thrown', 'teeth', '1729', 'opening', 'things', 'stone']\n"
     ]
    }
   ],
   "source": [
    "vocab = list(set(flatten(corpus)) - set(stopwords))\n",
    "vocab.append('<UNK>')\n",
    "print(vocab[0:10])\n",
    "#중복 처리를 위해 set 설정 이후 다시 리스트화\n",
    "#전체 코퍼스 중에서 빈도 상,하위 1% 단어들(stopwords) 제거"
   ]
  },
  {
   "cell_type": "code",
   "execution_count": 15,
   "metadata": {
    "scrolled": true
   },
   "outputs": [
    {
     "name": "stdout",
     "output_type": "stream",
     "text": [
      "1484\n",
      "1457\n"
     ]
    }
   ],
   "source": [
    "print(len(set(flatten(corpus))))\n",
    "print(len(vocab))"
   ]
  },
  {
   "cell_type": "code",
   "execution_count": 16,
   "metadata": {},
   "outputs": [],
   "source": [
    "word2index = {'<UNK>':0} #vocab 생성 시작\n",
    "\n",
    "for vo in vocab:\n",
    "    if word2index.get(vo) is None:\n",
    "        word2index[vo] = len(word2index)\n",
    "#만약 단어가 vocab 안에 없으면 vocab에 새로운 index 단어로 추가"
   ]
  },
  {
   "cell_type": "code",
   "execution_count": 17,
   "metadata": {},
   "outputs": [],
   "source": [
    "index2word = {v:k for k,v in word2index.items()}"
   ]
  },
  {
   "cell_type": "markdown",
   "metadata": {},
   "source": [
    "### Prepare train data"
   ]
  },
  {
   "cell_type": "code",
   "execution_count": 18,
   "metadata": {},
   "outputs": [
    {
     "name": "stdout",
     "output_type": "stream",
     "text": [
      "('<DUMMY>', '<DUMMY>', '<DUMMY>', '[', 'moby', 'dick', 'by')\n",
      "('<DUMMY>', '<DUMMY>', '[', 'moby', 'dick', 'by', 'herman')\n"
     ]
    }
   ],
   "source": [
    "WINDOW_SIZE = 3\n",
    "windows = flatten(list(nltk.ngrams(['<DUMMY>']*WINDOW_SIZE + c + ['<DUMMY>'] * WINDOW_SIZE,\n",
    "                                  WINDOW_SIZE*2+1)) for c in corpus)\n",
    "print(windows[0])\n",
    "print(windows[1])"
   ]
  },
  {
   "cell_type": "markdown",
   "metadata": {},
   "source": [
    "nltk.ngrams(word_list, n)"
   ]
  },
  {
   "cell_type": "code",
   "execution_count": 22,
   "metadata": {
    "scrolled": true
   },
   "outputs": [
    {
     "name": "stdout",
     "output_type": "stream",
     "text": [
      "[('[', 'moby'), ('[', 'dick'), ('[', 'by'), ('moby', '['), ('moby', 'dick'), ('moby', 'by'), ('moby', 'herman')]\n"
     ]
    }
   ],
   "source": [
    "train_data=[]\n",
    "for window in windows:\n",
    "    for i in range(WINDOW_SIZE*2+1):\n",
    "        if i == WINDOW_SIZE or window[i] == '<DUMMY>': #중심 단어이거나 dummy 값일 경우\n",
    "            continue\n",
    "        train_data.append((window[WINDOW_SIZE], window[i])) #append(중심단어, 주변단어)\n",
    "        \n",
    "print(train_data[:WINDOW_SIZE*2+1])"
   ]
  },
  {
   "cell_type": "code",
   "execution_count": 33,
   "metadata": {},
   "outputs": [],
   "source": [
    "def prepare_sequence(seq, word2index):\n",
    "    idxs = list(map(lambda w:word2index[w] if word2index.get(w) is not None else word2index['<UNK>'], seq))\n",
    "    return Variable(LongTensor(idxs))\n",
    "\n",
    "def prepare_word(word, word2index):\n",
    "    return Variable(LongTensor([word2index[word]]) if word2index.get(word) is not None else LongTensor([word2index[\"<UNK>\"]]))"
   ]
  },
  {
   "cell_type": "code",
   "execution_count": 34,
   "metadata": {},
   "outputs": [],
   "source": [
    "X_p=[]\n",
    "y_p=[]"
   ]
  },
  {
   "cell_type": "code",
   "execution_count": 35,
   "metadata": {
    "scrolled": true
   },
   "outputs": [],
   "source": [
    "for tr in train_data:  \n",
    "    X_p.append(prepare_word(tr[0], word2index).view(1,-1)) #중심단어 \n",
    "    y_p.append(prepare_word(tr[1], word2index).view(1,-1)) #주변단어"
   ]
  },
  {
   "cell_type": "markdown",
   "metadata": {},
   "source": [
    "a = Variable(torch.LongTensor(word2index[ '[' ]))\n",
    "\n",
    "print(len(a))"
   ]
  },
  {
   "cell_type": "code",
   "execution_count": 27,
   "metadata": {
    "scrolled": true
   },
   "outputs": [
    {
     "data": {
      "text/plain": [
       "('[', 'moby')"
      ]
     },
     "execution_count": 27,
     "metadata": {},
     "output_type": "execute_result"
    }
   ],
   "source": [
    "train_data[0]"
   ]
  },
  {
   "cell_type": "code",
   "execution_count": 28,
   "metadata": {
    "scrolled": true
   },
   "outputs": [
    {
     "name": "stdout",
     "output_type": "stream",
     "text": [
      "(Variable containing:\n",
      " 1322\n",
      "[torch.cuda.LongTensor of size 1x1 (GPU 0)]\n",
      ", Variable containing:\n",
      " 412\n",
      "[torch.cuda.LongTensor of size 1x1 (GPU 0)]\n",
      ")\n",
      "========================================\n",
      "26122\n"
     ]
    }
   ],
   "source": [
    "train_data = list(zip(X_p, y_p))\n",
    "\n",
    "print(train_data[0])\n",
    "print('='*40)\n",
    "print(len(train_data))"
   ]
  },
  {
   "cell_type": "markdown",
   "metadata": {},
   "source": [
    "### Modeling"
   ]
  },
  {
   "cell_type": "code",
   "execution_count": 29,
   "metadata": {},
   "outputs": [],
   "source": [
    "class Skipgram(nn.Module):\n",
    "    \n",
    "    def __init__(self, vocab_size, projection_dim):\n",
    "        super(Skipgram, self).__init__()\n",
    "        self.embedding_v = nn.Embedding(vocab_size, projection_dim) # v : 중심단어 벡터\n",
    "        self.embedding_u = nn.Embedding(vocab_size, projection_dim) # u : 주변단어 벡터\n",
    "        \n",
    "        self.embedding_v.weight.data.uniform_(-1,1) #init\n",
    "        self.embedding_u.weight.data.uniform_(0,0) #init\n",
    "        #self.out = nn.Linear(projection_dim, vocab_size)\n",
    "        \n",
    "    def forward(self, center_words, target_words, outer_words):\n",
    "        center_embeds = self.embedding_v(center_words) # B X 1 X D  #중심단어\n",
    "        target_embeds = self.embedding_u(target_words) # B X 1 X D  #주변단어 중 하나 \n",
    "        outer_embeds = self.embedding_u(outer_words) # B X V X D  #주변단어 \n",
    "        \n",
    "        scores = target_embeds.bmm(center_embeds.transpose(1,2)).squeeze(2) # BX1XD * BXDX1  => BX1\n",
    "        norm_scores = outer_embeds.bmm(center_embeds.transpose(1,2)).squeeze(2) #BXVXD * BXDX1  => BXV\n",
    "        #bmm: 일괄행렬 계산\n",
    "        \n",
    "        nll = -torch.mean(torch.log(torch.exp(scores)/torch.sum(torch.exp(norm_scores),1).unsqueeze(1))) # log-softmax\n",
    "        #negative log likelihood: 손실함수\n",
    "        \n",
    "        return nll # negative log likeligood\n",
    "    \n",
    "    def prediction(self, inputs):\n",
    "        embeds = self.embedding_v(inputs)\n",
    "        \n",
    "        return embeds"
   ]
  },
  {
   "cell_type": "markdown",
   "metadata": {},
   "source": [
    "#### torch.uniform(a,b) -> (a,b) 균일분포에 따라 임의의 실수를 구한다?\n",
    "\n",
    "#### torch.squeeze() -> 차원의 크기가 1인 차원을 제거\n",
    "#### torch.unsqueeze() -> 차원의 크기가 1인 차원을 원하는 차원에 생성"
   ]
  },
  {
   "cell_type": "markdown",
   "metadata": {},
   "source": [
    "### Train"
   ]
  },
  {
   "cell_type": "code",
   "execution_count": 30,
   "metadata": {},
   "outputs": [],
   "source": [
    "EMBEDDING_SIZE = 30\n",
    "BATCH_SIZE = 256\n",
    "EPOCH = 100"
   ]
  },
  {
   "cell_type": "code",
   "execution_count": 31,
   "metadata": {},
   "outputs": [],
   "source": [
    "losses = []\n",
    "model = Skipgram(len(word2index), EMBEDDING_SIZE)\n",
    "\n",
    "if USE_CUDA:\n",
    "    model = model.cuda()\n",
    "optimizer = optim.Adam(model.parameters(), lr=0.01) #lr = learning rate"
   ]
  },
  {
   "cell_type": "code",
   "execution_count": 32,
   "metadata": {
    "scrolled": false
   },
   "outputs": [
    {
     "name": "stdout",
     "output_type": "stream",
     "text": [
      "Epoch: 0, mean_loss: 6.18\n",
      "Epoch: 10, mean_loss: 4.33\n",
      "Epoch: 20, mean_loss: 3.74\n",
      "Epoch: 30, mean_loss: 3.64\n",
      "Epoch: 40, mean_loss: 3.60\n",
      "Epoch: 50, mean_loss: 3.59\n",
      "Epoch: 60, mean_loss: 3.58\n",
      "Epoch: 70, mean_loss: 3.57\n",
      "Epoch: 80, mean_loss: 3.56\n",
      "Epoch: 90, mean_loss: 3.56\n"
     ]
    }
   ],
   "source": [
    "for epoch in range(EPOCH):\n",
    "    for i, batch in enumerate(getBatch(BATCH_SIZE, train_data)):\n",
    "        \n",
    "        inputs, targets = zip(*batch)\n",
    "        \n",
    "        inputs = torch.cat(inputs) # B X 1\n",
    "        targets = torch.cat(targets) #B X 1\n",
    "        vocabs = prepare_sequence(list(vocab), word2index).expand(inputs.size(0), len(vocab)) #B X V\n",
    "        model.zero_grad()\n",
    "        \n",
    "        loss = model(inputs, targets, vocabs)\n",
    "        \n",
    "        loss.backward()\n",
    "        optimizer.step()\n",
    "        losses.append(loss.data.tolist()[0])\n",
    "        \n",
    "    if epoch % 10 == 0:\n",
    "        print('Epoch: %d, mean_loss: %.02f' % (epoch,np.mean(losses)))\n",
    "        losses=[]"
   ]
  },
  {
   "cell_type": "markdown",
   "metadata": {},
   "source": [
    "#### torch.cat() -> 두개의 텐서 붙이기 (차원의 크기가 같아야 한다.)\n",
    "dim=0 : 아래로    /    dim=1 : 오른쪽으로"
   ]
  },
  {
   "cell_type": "markdown",
   "metadata": {},
   "source": [
    "### Test"
   ]
  },
  {
   "cell_type": "code",
   "execution_count": 36,
   "metadata": {},
   "outputs": [],
   "source": [
    "def word_similarity(target, vocab):\n",
    "    if USE_CUDA:\n",
    "        target_V = model.prediction(prepare_word(target, word2index))\n",
    "    else:\n",
    "        target_V = model.prediction(prepare_word(target, word2index))\n",
    "    similarities = []\n",
    "    for i in range(len(vocab)):\n",
    "        \n",
    "        if vocab[i] == target: continue\n",
    "            \n",
    "        if USE_CUDA:\n",
    "            vector = model.prediction(prepare_word(list(vocab)[i], word2index))\n",
    "        else:\n",
    "            vector - model.prediction(prepare_word(list(vocab)[i], word2index))\n",
    "        cosine_sim = F.cosine_similarity(target_V, vector).data.tolist()[0]\n",
    "        similarities.append([vocab[i], cosine_sim])\n",
    "    return sorted(similarities, key=lambda x:x[1], reverse=True)[:10] # sort by similarity"
   ]
  },
  {
   "cell_type": "code",
   "execution_count": 40,
   "metadata": {},
   "outputs": [
    {
     "data": {
      "text/plain": [
       "'erromangoan'"
      ]
     },
     "execution_count": 40,
     "metadata": {},
     "output_type": "execute_result"
    }
   ],
   "source": [
    "test = random.choice(list(vocab))\n",
    "test"
   ]
  },
  {
   "cell_type": "code",
   "execution_count": 41,
   "metadata": {
    "scrolled": false
   },
   "outputs": [
    {
     "data": {
      "text/plain": [
       "[['fegee', 0.9464694857597351],\n",
       " ['pekee', 0.922804057598114],\n",
       " ['nuee', 0.9158511757850647],\n",
       " ['whoel', 0.7985355257987976],\n",
       " ['saxon', 0.7896506786346436],\n",
       " ['-', 0.7540516257286072],\n",
       " ['heads', 0.736070990562439],\n",
       " ['piggledy', 0.7126785516738892],\n",
       " ['grub', 0.7061753273010254],\n",
       " ['bone', 0.705224871635437]]"
      ]
     },
     "execution_count": 41,
     "metadata": {},
     "output_type": "execute_result"
    }
   ],
   "source": [
    "word_similarity(test,vocab)"
   ]
  }
 ],
 "metadata": {
  "kernelspec": {
   "display_name": "Python 3",
   "language": "python",
   "name": "python3"
  },
  "language_info": {
   "codemirror_mode": {
    "name": "ipython",
    "version": 3
   },
   "file_extension": ".py",
   "mimetype": "text/x-python",
   "name": "python",
   "nbconvert_exporter": "python",
   "pygments_lexer": "ipython3",
   "version": "3.6.5"
  }
 },
 "nbformat": 4,
 "nbformat_minor": 2
}
